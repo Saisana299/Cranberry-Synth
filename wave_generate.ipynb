{
 "cells": [
  {
   "cell_type": "code",
   "execution_count": 1,
   "metadata": {},
   "outputs": [
    {
     "name": "stdout",
     "output_type": "stream",
     "text": [
      "sine_wave.h を出力しました。\n"
     ]
    }
   ],
   "source": [
    "# 正弦波\n",
    "import numpy as np\n",
    "\n",
    "# パラメータ\n",
    "TABLE_SIZE = 2048  # サンプル数\n",
    "AMPLITUDE = 32767  # int16_tの最大値 (±32767)\n",
    "\n",
    "# サイン波生成\n",
    "sine_wave = (np.sin(2 * np.pi * np.arange(TABLE_SIZE) / TABLE_SIZE) * AMPLITUDE).astype(np.int16)\n",
    "\n",
    "# Cの配列として出力\n",
    "with open(\"sine_wave.h\", \"w\") as f:\n",
    "    f.write(\"#pragma once\\n\\n\")\n",
    "    f.write(\"// 2048サンプルのサイン波テーブル\\n\")\n",
    "    f.write(\"const int16_t sine_wave[2048] = {\\n\")\n",
    "\n",
    "    # 16個ずつ改行を入れて出力\n",
    "    for i in range(0, TABLE_SIZE, 16):\n",
    "        f.write(\"    \" + \", \".join(map(str, sine_wave[i:i+16])) + \",\\n\")\n",
    "\n",
    "    f.write(\"};\\n\")\n",
    "\n",
    "print(\"sine_wave.h を出力しました。\")"
   ]
  },
  {
   "cell_type": "code",
   "execution_count": 1,
   "metadata": {},
   "outputs": [
    {
     "name": "stdout",
     "output_type": "stream",
     "text": [
      "triangle_wave.h を出力しました。\n"
     ]
    }
   ],
   "source": [
    "# 三角波\n",
    "import numpy as np\n",
    "\n",
    "# パラメータ\n",
    "TABLE_SIZE = 2048  # サンプル数\n",
    "AMPLITUDE = 32767  # int16_tの最大値\n",
    "\n",
    "# 三角波生成\n",
    "triangle_wave = (2 * AMPLITUDE * np.abs(\n",
    "    np.arange(TABLE_SIZE) / TABLE_SIZE - 0.5) - AMPLITUDE).astype(np.int16)\n",
    "\n",
    "# Cの配列として出力\n",
    "with open(\"triangle_wave.h\", \"w\") as f:\n",
    "    f.write(\"#pragma once\\n\\n\")\n",
    "    f.write(\"// 2048サンプルの三角波テーブル\\n\")\n",
    "    f.write(\"const int16_t triangle_wave[2048] = {\\n\")\n",
    "\n",
    "    # 16個ずつ改行を入れて出力\n",
    "    for i in range(0, TABLE_SIZE, 16):\n",
    "        f.write(\"    \" + \", \".join(map(str, triangle_wave[i:i+16])) + \",\\n\")\n",
    "\n",
    "    f.write(\"};\\n\")\n",
    "\n",
    "print(\"triangle_wave.h を出力しました。\")"
   ]
  },
  {
   "cell_type": "code",
   "execution_count": 2,
   "metadata": {},
   "outputs": [
    {
     "name": "stdout",
     "output_type": "stream",
     "text": [
      "saw_wave.h を出力しました。\n"
     ]
    }
   ],
   "source": [
    "# ノコギリ波\n",
    "import numpy as np\n",
    "\n",
    "# パラメータ\n",
    "TABLE_SIZE = 2048  # サンプル数\n",
    "AMPLITUDE = 32767  # int16_tの最大値\n",
    "\n",
    "# ノコギリ波生成\n",
    "saw_wave = (2 * AMPLITUDE * (np.arange(TABLE_SIZE) / TABLE_SIZE - np.floor(np.arange(TABLE_SIZE) / TABLE_SIZE)) - AMPLITUDE).astype(np.int16)\n",
    "\n",
    "# Cの配列として出力\n",
    "with open(\"saw_wave.h\", \"w\") as f:\n",
    "    f.write(\"#pragma once\\n\\n\")\n",
    "    f.write(\"// 2048サンプルのノコギリ波テーブル\\n\")\n",
    "    f.write(\"const int16_t saw_wave[2048] = {\\n\")\n",
    "\n",
    "    # 16個ずつ改行を入れて出力\n",
    "    for i in range(0, TABLE_SIZE, 16):\n",
    "        f.write(\"    \" + \", \".join(map(str, saw_wave[i:i+16])) + \",\\n\")\n",
    "\n",
    "    f.write(\"};\\n\")\n",
    "\n",
    "print(\"saw_wave.h を出力しました。\")"
   ]
  },
  {
   "cell_type": "code",
   "execution_count": 2,
   "metadata": {},
   "outputs": [
    {
     "name": "stdout",
     "output_type": "stream",
     "text": [
      "square_wave_custom_duty_50.0.h を出力しました。\n"
     ]
    }
   ],
   "source": [
    "# 矩形波\n",
    "import numpy as np\n",
    "\n",
    "# パラメータ\n",
    "TABLE_SIZE = 2048  # サンプル数\n",
    "AMPLITUDE = 32767  # int16_tの最大値\n",
    "\n",
    "def generate_square_wave(duty_cycle=0.5):\n",
    "    \"\"\"\n",
    "    矩形波を生成する関数。デューティー比を指定可能。\n",
    "    duty_cycle: デューティー比 (0.0 から 1.0 の範囲)\n",
    "    \"\"\"\n",
    "    square_wave = np.array([AMPLITUDE if (x % TABLE_SIZE) < (TABLE_SIZE * duty_cycle) else -AMPLITUDE for x in range(TABLE_SIZE)], dtype=np.int16)\n",
    "    return square_wave\n",
    "\n",
    "# デューティー比を指定\n",
    "duty_cycle = 0.5\n",
    "square_wave = generate_square_wave(duty_cycle)\n",
    "\n",
    "# Cの配列として出力\n",
    "with open(\"square_wave_custom_duty.h\", \"w\") as f:\n",
    "    f.write(\"#pragma once\\n\\n\")\n",
    "    f.write(f\"// 2048サンプルの矩形波テーブル（デューティー比: {duty_cycle*100}%）\\n\")\n",
    "    f.write(\"const int16_t square_wave[2048] = {\\n\")\n",
    "\n",
    "    # 16個ずつ改行を入れて出力\n",
    "    for i in range(0, TABLE_SIZE, 16):\n",
    "        f.write(\"    \" + \", \".join(map(str, square_wave[i:i+16])) + \",\\n\")\n",
    "\n",
    "    f.write(\"};\\n\")\n",
    "\n",
    "print(f\"square_wave_custom_duty_{duty_cycle*100}.h を出力しました。\")"
   ]
  },
  {
   "cell_type": "code",
   "execution_count": 5,
   "metadata": {},
   "outputs": [
    {
     "name": "stdout",
     "output_type": "stream",
     "text": [
      "const int16_t PAN_SIN_TABLE[201] = {\n",
      "        0,   257,   515,   772,  1029,  1286,  1544,  1801,  2057,  2314,\n",
      "     2571,  2827,  3084,  3340,  3596,  3851,  4107,  4362,  4617,  4872,\n",
      "     5126,  5380,  5634,  5887,  6140,  6393,  6645,  6897,  7148,  7399,\n",
      "     7649,  7899,  8149,  8398,  8646,  8894,  9142,  9389,  9635,  9880,\n",
      "    10126, 10370, 10614, 10857, 11099, 11341, 11582, 11823, 12062, 12301,\n",
      "    12539, 12777, 13013, 13249, 13484, 13718, 13952, 14184, 14415, 14646,\n",
      "    14876, 15105, 15333, 15560, 15786, 16011, 16235, 16458, 16680, 16901,\n",
      "    17121, 17340, 17557, 17774, 17990, 18204, 18418, 18630, 18841, 19051,\n",
      "    19260, 19468, 19674, 19879, 20083, 20286, 20487, 20688, 20886, 21084,\n",
      "    21280, 21475, 21669, 21862, 22053, 22242, 22431, 22617, 22803, 22987,\n",
      "    23170, 23351, 23531, 23709, 23886, 24062, 24235, 24408, 24579, 24748,\n",
      "    24916, 25083, 25247, 25411, 25572, 25732, 25891, 26048, 26203, 26357,\n",
      "    26509, 26660, 26808, 26955, 27101, 27245, 27387, 27527, 27666, 27803,\n",
      "    27938, 28072, 28204, 28334, 28462, 28589, 28714, 28837, 28958, 29078,\n",
      "    29196, 29312, 29426, 29538, 29648, 29757, 29864, 29969, 30072, 30173,\n",
      "    30273, 30370, 30466, 30560, 30652, 30742, 30830, 30916, 31000, 31083,\n",
      "    31163, 31242, 31318, 31393, 31466, 31537, 31606, 31673, 31738, 31801,\n",
      "    31862, 31921, 31978, 32033, 32086, 32137, 32187, 32234, 32279, 32322,\n",
      "    32364, 32403, 32440, 32475, 32509, 32540, 32569, 32596, 32622, 32645,\n",
      "    32666, 32685, 32702, 32717, 32731, 32742, 32751, 32758, 32763, 32766,\n",
      "    32767,\n",
      "};\n",
      "\n",
      "const int16_t PAN_COS_TABLE[201] = {\n",
      "    32767, 32766, 32763, 32758, 32751, 32742, 32731, 32717, 32702, 32685,\n",
      "    32666, 32645, 32622, 32596, 32569, 32540, 32509, 32475, 32440, 32403,\n",
      "    32364, 32322, 32279, 32234, 32187, 32137, 32086, 32033, 31978, 31921,\n",
      "    31862, 31801, 31738, 31673, 31606, 31537, 31466, 31393, 31318, 31242,\n",
      "    31163, 31083, 31000, 30916, 30830, 30742, 30652, 30560, 30466, 30370,\n",
      "    30273, 30173, 30072, 29969, 29864, 29757, 29648, 29538, 29426, 29312,\n",
      "    29196, 29078, 28958, 28837, 28714, 28589, 28462, 28334, 28204, 28072,\n",
      "    27938, 27803, 27666, 27527, 27387, 27245, 27101, 26955, 26808, 26660,\n",
      "    26509, 26357, 26203, 26048, 25891, 25732, 25572, 25411, 25247, 25083,\n",
      "    24916, 24748, 24579, 24408, 24235, 24062, 23886, 23709, 23531, 23351,\n",
      "    23170, 22987, 22803, 22617, 22431, 22242, 22053, 21862, 21669, 21475,\n",
      "    21280, 21084, 20886, 20688, 20487, 20286, 20083, 19879, 19674, 19468,\n",
      "    19260, 19051, 18841, 18630, 18418, 18204, 17990, 17774, 17557, 17340,\n",
      "    17121, 16901, 16680, 16458, 16235, 16011, 15786, 15560, 15333, 15105,\n",
      "    14876, 14646, 14415, 14184, 13952, 13718, 13484, 13249, 13013, 12777,\n",
      "    12539, 12301, 12062, 11823, 11582, 11341, 11099, 10857, 10614, 10370,\n",
      "    10126,  9880,  9635,  9389,  9142,  8894,  8646,  8398,  8149,  7899,\n",
      "     7649,  7399,  7148,  6897,  6645,  6393,  6140,  5887,  5634,  5380,\n",
      "     5126,  4872,  4617,  4362,  4107,  3851,  3596,  3340,  3084,  2827,\n",
      "     2571,  2314,  2057,  1801,  1544,  1286,  1029,   772,   515,   257,\n",
      "        0,\n",
      "};\n"
     ]
    }
   ],
   "source": [
    "import math\n",
    "\n",
    "N = 200  # 0～N の範囲で合計 N+1=201 点\n",
    "MAX_AMP = 32767\n",
    "\n",
    "sin_vals = []\n",
    "cos_vals = []\n",
    "\n",
    "for i in range(N+1):\n",
    "    # 0～π/2 を N分割するのでステップは (π/2)/N\n",
    "    theta = (math.pi / 2) * (i / N)\n",
    "    s = round(math.sin(theta) * MAX_AMP)\n",
    "    c = round(math.cos(theta) * MAX_AMP)\n",
    "    sin_vals.append(s)\n",
    "    cos_vals.append(c)\n",
    "\n",
    "print(\"const int16_t PAN_SIN_TABLE[201] = {\")\n",
    "for i in range(0, N+1, 10):  # 10個ずつ区切って整形\n",
    "    chunk = sin_vals[i:i+10]\n",
    "    print(\"    \" + \", \".join(f\"{v:5d}\" for v in chunk) + (\",\" if i+10 <= N else \",\"))\n",
    "print(\"};\\n\")\n",
    "\n",
    "print(\"const int16_t PAN_COS_TABLE[201] = {\")\n",
    "for i in range(0, N+1, 10):\n",
    "    chunk = cos_vals[i:i+10]\n",
    "    print(\"    \" + \", \".join(f\"{v:5d}\" for v in chunk) + (\",\" if i+10 <= N else \",\"))\n",
    "print(\"};\")\n"
   ]
  }
 ],
 "metadata": {
  "kernelspec": {
   "display_name": "Python 3",
   "language": "python",
   "name": "python3"
  },
  "language_info": {
   "codemirror_mode": {
    "name": "ipython",
    "version": 3
   },
   "file_extension": ".py",
   "mimetype": "text/x-python",
   "name": "python",
   "nbconvert_exporter": "python",
   "pygments_lexer": "ipython3",
   "version": "3.11.2"
  }
 },
 "nbformat": 4,
 "nbformat_minor": 2
}

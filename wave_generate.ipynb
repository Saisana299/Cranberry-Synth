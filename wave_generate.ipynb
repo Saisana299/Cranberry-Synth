{
 "cells": [
  {
   "cell_type": "code",
   "execution_count": 1,
   "metadata": {},
   "outputs": [
    {
     "name": "stdout",
     "output_type": "stream",
     "text": [
      "sine_wave.h を出力しました。\n"
     ]
    }
   ],
   "source": [
    "# 正弦波\n",
    "import numpy as np\n",
    "\n",
    "# パラメータ\n",
    "TABLE_SIZE = 2048  # サンプル数\n",
    "AMPLITUDE = 32767  # int16_tの最大値 (±32767)\n",
    "\n",
    "# サイン波生成\n",
    "sine_wave = (np.sin(2 * np.pi * np.arange(TABLE_SIZE) / TABLE_SIZE) * AMPLITUDE).astype(np.int16)\n",
    "\n",
    "# Cの配列として出力\n",
    "with open(\"sine_wave.h\", \"w\") as f:\n",
    "    f.write(\"#pragma once\\n\\n\")\n",
    "    f.write(\"// 2048サンプルのサイン波テーブル\\n\")\n",
    "    f.write(\"const int16_t sine_wave[2048] = {\\n\")\n",
    "\n",
    "    # 16個ずつ改行を入れて出力\n",
    "    for i in range(0, TABLE_SIZE, 16):\n",
    "        f.write(\"    \" + \", \".join(map(str, sine_wave[i:i+16])) + \",\\n\")\n",
    "\n",
    "    f.write(\"};\\n\")\n",
    "\n",
    "print(\"sine_wave.h を出力しました。\")"
   ]
  },
  {
   "cell_type": "code",
   "execution_count": 1,
   "metadata": {},
   "outputs": [
    {
     "name": "stdout",
     "output_type": "stream",
     "text": [
      "triangle_wave.h を出力しました。\n"
     ]
    }
   ],
   "source": [
    "# 三角波\n",
    "import numpy as np\n",
    "\n",
    "# パラメータ\n",
    "TABLE_SIZE = 2048  # サンプル数\n",
    "AMPLITUDE = 32767  # int16_tの最大値\n",
    "\n",
    "# 三角波生成\n",
    "triangle_wave = (2 * AMPLITUDE * np.abs(\n",
    "    np.arange(TABLE_SIZE) / TABLE_SIZE - 0.5) - AMPLITUDE).astype(np.int16)\n",
    "\n",
    "# Cの配列として出力\n",
    "with open(\"triangle_wave.h\", \"w\") as f:\n",
    "    f.write(\"#pragma once\\n\\n\")\n",
    "    f.write(\"// 2048サンプルの三角波テーブル\\n\")\n",
    "    f.write(\"const int16_t triangle_wave[2048] = {\\n\")\n",
    "\n",
    "    # 16個ずつ改行を入れて出力\n",
    "    for i in range(0, TABLE_SIZE, 16):\n",
    "        f.write(\"    \" + \", \".join(map(str, triangle_wave[i:i+16])) + \",\\n\")\n",
    "\n",
    "    f.write(\"};\\n\")\n",
    "\n",
    "print(\"triangle_wave.h を出力しました。\")"
   ]
  },
  {
   "cell_type": "code",
   "execution_count": 2,
   "metadata": {},
   "outputs": [
    {
     "name": "stdout",
     "output_type": "stream",
     "text": [
      "saw_wave.h を出力しました。\n"
     ]
    }
   ],
   "source": [
    "# ノコギリ波\n",
    "import numpy as np\n",
    "\n",
    "# パラメータ\n",
    "TABLE_SIZE = 2048  # サンプル数\n",
    "AMPLITUDE = 32767  # int16_tの最大値\n",
    "\n",
    "# ノコギリ波生成\n",
    "saw_wave = (2 * AMPLITUDE * (np.arange(TABLE_SIZE) / TABLE_SIZE - np.floor(np.arange(TABLE_SIZE) / TABLE_SIZE)) - AMPLITUDE).astype(np.int16)\n",
    "\n",
    "# Cの配列として出力\n",
    "with open(\"saw_wave.h\", \"w\") as f:\n",
    "    f.write(\"#pragma once\\n\\n\")\n",
    "    f.write(\"// 2048サンプルのノコギリ波テーブル\\n\")\n",
    "    f.write(\"const int16_t saw_wave[2048] = {\\n\")\n",
    "\n",
    "    # 16個ずつ改行を入れて出力\n",
    "    for i in range(0, TABLE_SIZE, 16):\n",
    "        f.write(\"    \" + \", \".join(map(str, saw_wave[i:i+16])) + \",\\n\")\n",
    "\n",
    "    f.write(\"};\\n\")\n",
    "\n",
    "print(\"saw_wave.h を出力しました。\")"
   ]
  },
  {
   "cell_type": "code",
   "execution_count": 3,
   "metadata": {},
   "outputs": [
    {
     "name": "stdout",
     "output_type": "stream",
     "text": [
      "square_wave_custom_duty_25.0.h を出力しました。\n"
     ]
    }
   ],
   "source": [
    "# 矩形波\n",
    "import numpy as np\n",
    "\n",
    "# パラメータ\n",
    "TABLE_SIZE = 2048  # サンプル数\n",
    "AMPLITUDE = 32767  # int16_tの最大値\n",
    "\n",
    "def generate_square_wave(duty_cycle=0.5):\n",
    "    \"\"\"\n",
    "    矩形波を生成する関数。デューティー比を指定可能。\n",
    "    duty_cycle: デューティー比 (0.0 から 1.0 の範囲)\n",
    "    \"\"\"\n",
    "    square_wave = np.array([AMPLITUDE if (x % TABLE_SIZE) < (TABLE_SIZE * duty_cycle) else -AMPLITUDE for x in range(TABLE_SIZE)], dtype=np.int16)\n",
    "    return square_wave\n",
    "\n",
    "# デューティー比を0.25と指定\n",
    "duty_cycle = 0.25\n",
    "square_wave = generate_square_wave(duty_cycle)\n",
    "\n",
    "# Cの配列として出力\n",
    "with open(\"square_wave_custom_duty.h\", \"w\") as f:\n",
    "    f.write(\"#pragma once\\n\\n\")\n",
    "    f.write(f\"// 2048サンプルの矩形波テーブル（デューティー比: {duty_cycle*100}%）\\n\")\n",
    "    f.write(\"const int16_t square_wave[2048] = {\\n\")\n",
    "\n",
    "    # 16個ずつ改行を入れて出力\n",
    "    for i in range(0, TABLE_SIZE, 16):\n",
    "        f.write(\"    \" + \", \".join(map(str, square_wave[i:i+16])) + \",\\n\")\n",
    "\n",
    "    f.write(\"};\\n\")\n",
    "\n",
    "print(f\"square_wave_custom_duty_{duty_cycle*100}.h を出力しました。\")"
   ]
  }
 ],
 "metadata": {
  "kernelspec": {
   "display_name": "Python 3",
   "language": "python",
   "name": "python3"
  },
  "language_info": {
   "codemirror_mode": {
    "name": "ipython",
    "version": 3
   },
   "file_extension": ".py",
   "mimetype": "text/x-python",
   "name": "python",
   "nbconvert_exporter": "python",
   "pygments_lexer": "ipython3",
   "version": "3.11.2"
  }
 },
 "nbformat": 4,
 "nbformat_minor": 2
}
